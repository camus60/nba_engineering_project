{
 "cells": [
  {
   "cell_type": "code",
   "execution_count": 32,
   "id": "a5110e67-2174-4648-8c93-5e8cbdae8b06",
   "metadata": {},
   "outputs": [],
   "source": [
    "import requests\n",
    "from bs4 import BeautifulSoup\n",
    "\n",
    "years = list(range(2000,2023))\n",
    "\n",
    "url_start = \"https://www.basketball-reference.com/draft/NBA_{}.html\"\n",
    "\n",
    "for year in years:\n",
    "    url = url_start.format(year)\n",
    "    data = requests.get(url)\n",
    "    \n",
    "    with open(\"./draft/{}.html\".format(year), \"w+\", encoding=\"utf-8\") as f:\n",
    "        f.write(data.text)"
   ]
  },
  {
   "cell_type": "code",
   "execution_count": 33,
   "id": "a729f463-55e1-444b-aabb-5e5eb2a80a85",
   "metadata": {},
   "outputs": [],
   "source": [
    "with open(\"./draft/2012.html\", encoding=\"utf-8\") as f:\n",
    "    page = f.read()"
   ]
  },
  {
   "cell_type": "code",
   "execution_count": 7,
   "id": "2ad1b0d5-9840-4d8d-8729-127c2f5d3928",
   "metadata": {},
   "outputs": [],
   "source": [
    "soup = BeautifulSoup(page, \"html.parser\")"
   ]
  },
  {
   "cell_type": "code",
   "execution_count": 8,
   "id": "1124ccf1-806f-46fb-a7fd-0d1f3d0daa86",
   "metadata": {},
   "outputs": [],
   "source": [
    "# find element in html and use decompose method to remove it\n",
    "soup.find('tr', class_=\"over_header\").decompose()"
   ]
  },
  {
   "cell_type": "code",
   "execution_count": 12,
   "id": "54c7fbbe-bc6b-43e7-8f60-183a97431cb7",
   "metadata": {},
   "outputs": [],
   "source": [
    "# find a specific id\n",
    "draft_table = soup.find(id=\"stats\")"
   ]
  },
  {
   "cell_type": "code",
   "execution_count": 16,
   "id": "506d35ef-e07f-415b-b71b-4b7d33398707",
   "metadata": {},
   "outputs": [],
   "source": [
    "import pandas as pd\n",
    "draft_2012 = pd.read_html(str(draft_table))[0]"
   ]
  },
  {
   "cell_type": "code",
   "execution_count": 34,
   "id": "023a3b8b-2ef6-4504-9070-f121758c06b4",
   "metadata": {},
   "outputs": [],
   "source": [
    "dfs = []\n",
    "for year in years:\n",
    "    with open(\"./draft/{}.html\".format(year), encoding=\"utf-8\") as f:\n",
    "        page = f.read()\n",
    "    soup = BeautifulSoup(page, \"html.parser\")\n",
    "    soup.find('tr', class_=\"over_header\").decompose()\n",
    "    draft_table = soup.find(id=\"stats\")\n",
    "    draft = pd.read_html(str(draft_table))[0]\n",
    "    draft[\"Year\"] = year\n",
    "    \n",
    "    dfs.append(draft)\n",
    "    "
   ]
  },
  {
   "cell_type": "code",
   "execution_count": 35,
   "id": "951d9dcf-ca88-4816-b86b-3011e4acdceb",
   "metadata": {},
   "outputs": [],
   "source": [
    "picks = pd.concat(dfs)"
   ]
  },
  {
   "cell_type": "code",
   "execution_count": 36,
   "id": "5d2ddf68-04a0-49f6-bb77-29be9e8321b7",
   "metadata": {},
   "outputs": [
    {
     "data": {
      "text/html": [
       "<div>\n",
       "<style scoped>\n",
       "    .dataframe tbody tr th:only-of-type {\n",
       "        vertical-align: middle;\n",
       "    }\n",
       "\n",
       "    .dataframe tbody tr th {\n",
       "        vertical-align: top;\n",
       "    }\n",
       "\n",
       "    .dataframe thead th {\n",
       "        text-align: right;\n",
       "    }\n",
       "</style>\n",
       "<table border=\"1\" class=\"dataframe\">\n",
       "  <thead>\n",
       "    <tr style=\"text-align: right;\">\n",
       "      <th></th>\n",
       "      <th>Rk</th>\n",
       "      <th>Pk</th>\n",
       "      <th>Tm</th>\n",
       "      <th>Player</th>\n",
       "      <th>College</th>\n",
       "      <th>Yrs</th>\n",
       "      <th>G</th>\n",
       "      <th>MP</th>\n",
       "      <th>PTS</th>\n",
       "      <th>TRB</th>\n",
       "      <th>...</th>\n",
       "      <th>FT%</th>\n",
       "      <th>MP.1</th>\n",
       "      <th>PTS.1</th>\n",
       "      <th>TRB.1</th>\n",
       "      <th>AST.1</th>\n",
       "      <th>WS</th>\n",
       "      <th>WS/48</th>\n",
       "      <th>BPM</th>\n",
       "      <th>VORP</th>\n",
       "      <th>Year</th>\n",
       "    </tr>\n",
       "  </thead>\n",
       "  <tbody>\n",
       "    <tr>\n",
       "      <th>0</th>\n",
       "      <td>1</td>\n",
       "      <td>1</td>\n",
       "      <td>NJN</td>\n",
       "      <td>Kenyon Martin</td>\n",
       "      <td>Cincinnati</td>\n",
       "      <td>15</td>\n",
       "      <td>757</td>\n",
       "      <td>23134</td>\n",
       "      <td>9325</td>\n",
       "      <td>5159</td>\n",
       "      <td>...</td>\n",
       "      <td>.629</td>\n",
       "      <td>30.6</td>\n",
       "      <td>12.3</td>\n",
       "      <td>6.8</td>\n",
       "      <td>1.9</td>\n",
       "      <td>48.0</td>\n",
       "      <td>.100</td>\n",
       "      <td>0.1</td>\n",
       "      <td>12.1</td>\n",
       "      <td>2000</td>\n",
       "    </tr>\n",
       "    <tr>\n",
       "      <th>1</th>\n",
       "      <td>2</td>\n",
       "      <td>2</td>\n",
       "      <td>VAN</td>\n",
       "      <td>Stromile Swift</td>\n",
       "      <td>LSU</td>\n",
       "      <td>9</td>\n",
       "      <td>547</td>\n",
       "      <td>10804</td>\n",
       "      <td>4582</td>\n",
       "      <td>2535</td>\n",
       "      <td>...</td>\n",
       "      <td>.699</td>\n",
       "      <td>19.8</td>\n",
       "      <td>8.4</td>\n",
       "      <td>4.6</td>\n",
       "      <td>0.5</td>\n",
       "      <td>21.3</td>\n",
       "      <td>.095</td>\n",
       "      <td>-1.6</td>\n",
       "      <td>1.1</td>\n",
       "      <td>2000</td>\n",
       "    </tr>\n",
       "    <tr>\n",
       "      <th>2</th>\n",
       "      <td>3</td>\n",
       "      <td>3</td>\n",
       "      <td>LAC</td>\n",
       "      <td>Darius Miles</td>\n",
       "      <td>NaN</td>\n",
       "      <td>7</td>\n",
       "      <td>446</td>\n",
       "      <td>11730</td>\n",
       "      <td>4507</td>\n",
       "      <td>2190</td>\n",
       "      <td>...</td>\n",
       "      <td>.590</td>\n",
       "      <td>26.3</td>\n",
       "      <td>10.1</td>\n",
       "      <td>4.9</td>\n",
       "      <td>1.9</td>\n",
       "      <td>9.5</td>\n",
       "      <td>.039</td>\n",
       "      <td>-1.0</td>\n",
       "      <td>3.0</td>\n",
       "      <td>2000</td>\n",
       "    </tr>\n",
       "    <tr>\n",
       "      <th>3</th>\n",
       "      <td>4</td>\n",
       "      <td>4</td>\n",
       "      <td>CHI</td>\n",
       "      <td>Marcus Fizer</td>\n",
       "      <td>Iowa State</td>\n",
       "      <td>6</td>\n",
       "      <td>289</td>\n",
       "      <td>6032</td>\n",
       "      <td>2782</td>\n",
       "      <td>1340</td>\n",
       "      <td>...</td>\n",
       "      <td>.691</td>\n",
       "      <td>20.9</td>\n",
       "      <td>9.6</td>\n",
       "      <td>4.6</td>\n",
       "      <td>1.2</td>\n",
       "      <td>2.7</td>\n",
       "      <td>.022</td>\n",
       "      <td>-3.7</td>\n",
       "      <td>-2.6</td>\n",
       "      <td>2000</td>\n",
       "    </tr>\n",
       "    <tr>\n",
       "      <th>4</th>\n",
       "      <td>5</td>\n",
       "      <td>5</td>\n",
       "      <td>ORL</td>\n",
       "      <td>Mike Miller</td>\n",
       "      <td>Florida</td>\n",
       "      <td>17</td>\n",
       "      <td>1032</td>\n",
       "      <td>27812</td>\n",
       "      <td>10973</td>\n",
       "      <td>4376</td>\n",
       "      <td>...</td>\n",
       "      <td>.769</td>\n",
       "      <td>26.9</td>\n",
       "      <td>10.6</td>\n",
       "      <td>4.2</td>\n",
       "      <td>2.6</td>\n",
       "      <td>60.7</td>\n",
       "      <td>.105</td>\n",
       "      <td>0.8</td>\n",
       "      <td>19.8</td>\n",
       "      <td>2000</td>\n",
       "    </tr>\n",
       "  </tbody>\n",
       "</table>\n",
       "<p>5 rows × 23 columns</p>\n",
       "</div>"
      ],
      "text/plain": [
       "  Rk Pk   Tm          Player     College Yrs     G     MP    PTS   TRB  ...  \\\n",
       "0  1  1  NJN   Kenyon Martin  Cincinnati  15   757  23134   9325  5159  ...   \n",
       "1  2  2  VAN  Stromile Swift         LSU   9   547  10804   4582  2535  ...   \n",
       "2  3  3  LAC    Darius Miles         NaN   7   446  11730   4507  2190  ...   \n",
       "3  4  4  CHI    Marcus Fizer  Iowa State   6   289   6032   2782  1340  ...   \n",
       "4  5  5  ORL     Mike Miller     Florida  17  1032  27812  10973  4376  ...   \n",
       "\n",
       "    FT%  MP.1 PTS.1 TRB.1 AST.1    WS WS/48   BPM  VORP  Year  \n",
       "0  .629  30.6  12.3   6.8   1.9  48.0  .100   0.1  12.1  2000  \n",
       "1  .699  19.8   8.4   4.6   0.5  21.3  .095  -1.6   1.1  2000  \n",
       "2  .590  26.3  10.1   4.9   1.9   9.5  .039  -1.0   3.0  2000  \n",
       "3  .691  20.9   9.6   4.6   1.2   2.7  .022  -3.7  -2.6  2000  \n",
       "4  .769  26.9  10.6   4.2   2.6  60.7  .105   0.8  19.8  2000  \n",
       "\n",
       "[5 rows x 23 columns]"
      ]
     },
     "execution_count": 36,
     "metadata": {},
     "output_type": "execute_result"
    }
   ],
   "source": [
    "picks.head()"
   ]
  },
  {
   "cell_type": "code",
   "execution_count": 37,
   "id": "3663c28c-57ab-458d-a746-b006021f5680",
   "metadata": {},
   "outputs": [],
   "source": [
    "picks.to_csv(\"picks.csv\")"
   ]
  },
  {
   "cell_type": "code",
   "execution_count": 39,
   "id": "3caad36f-061f-45df-b74a-4b3811869ade",
   "metadata": {},
   "outputs": [
    {
     "ename": "SyntaxError",
     "evalue": "invalid syntax (Temp/ipykernel_16216/4222147693.py, line 3)",
     "output_type": "error",
     "traceback": [
      "\u001b[1;36m  File \u001b[1;32m\"C:\\Users\\mkamb\\AppData\\Local\\Temp/ipykernel_16216/4222147693.py\"\u001b[1;36m, line \u001b[1;32m3\u001b[0m\n\u001b[1;33m    pip install selenium\u001b[0m\n\u001b[1;37m        ^\u001b[0m\n\u001b[1;31mSyntaxError\u001b[0m\u001b[1;31m:\u001b[0m invalid syntax\n"
     ]
    }
   ],
   "source": [
    "# NBA player statistics\n",
    "# using selenium \n"
   ]
  },
  {
   "cell_type": "code",
   "execution_count": null,
   "id": "413e54c3-8386-4181-8bcf-2cafcac225db",
   "metadata": {},
   "outputs": [],
   "source": []
  }
 ],
 "metadata": {
  "kernelspec": {
   "display_name": "Python 3 (ipykernel)",
   "language": "python",
   "name": "python3"
  },
  "language_info": {
   "codemirror_mode": {
    "name": "ipython",
    "version": 3
   },
   "file_extension": ".py",
   "mimetype": "text/x-python",
   "name": "python",
   "nbconvert_exporter": "python",
   "pygments_lexer": "ipython3",
   "version": "3.9.7"
  }
 },
 "nbformat": 4,
 "nbformat_minor": 5
}
